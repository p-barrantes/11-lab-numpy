{
 "cells": [
  {
   "cell_type": "markdown",
   "metadata": {},
   "source": [
    "# Intrduction to NumPy\n",
    "\n",
    "\n",
    "#### 1. Import NumPy under the name np."
   ]
  },
  {
   "cell_type": "code",
   "execution_count": 1,
   "metadata": {
    "collapsed": true
   },
   "outputs": [],
   "source": [
    "# your code here\n",
    "\n",
    "import numpy as np"
   ]
  },
  {
   "cell_type": "markdown",
   "metadata": {},
   "source": [
    "#### 2. Print your NumPy version."
   ]
  },
  {
   "cell_type": "code",
   "execution_count": 2,
   "metadata": {
    "collapsed": true,
    "tags": []
   },
   "outputs": [
    {
     "output_type": "stream",
     "name": "stdout",
     "text": [
      "1.19.2\n"
     ]
    }
   ],
   "source": [
    "# your code here\n",
    "\n",
    "print(np.__version__)"
   ]
  },
  {
   "cell_type": "markdown",
   "metadata": {},
   "source": [
    "#### 3. Generate a 2x3x5 3-dimensional array with random values. Assign the array to variable *a*.\n",
    "**Challenge**: there are at least three easy ways that use numpy to generate random arrays. How many ways can you find?"
   ]
  },
  {
   "cell_type": "code",
   "execution_count": 3,
   "metadata": {
    "collapsed": true
   },
   "outputs": [],
   "source": [
    "# Method 1\n",
    "\n",
    "a = np.random.rand(2,3,5)"
   ]
  },
  {
   "cell_type": "code",
   "execution_count": 4,
   "metadata": {
    "collapsed": true
   },
   "outputs": [],
   "source": [
    "# Method 2\n",
    "\n",
    "a_1 = np.random.randint(1,100,(2,3,5))"
   ]
  },
  {
   "cell_type": "code",
   "execution_count": 5,
   "metadata": {
    "collapsed": true
   },
   "outputs": [],
   "source": [
    "# Method 3\n",
    "\n",
    "a_2 = np.random.randn(2,3,5)"
   ]
  },
  {
   "cell_type": "markdown",
   "metadata": {},
   "source": [
    "#### 4. Print *a*.\n"
   ]
  },
  {
   "cell_type": "code",
   "execution_count": 6,
   "metadata": {
    "collapsed": true
   },
   "outputs": [
    {
     "output_type": "stream",
     "name": "stdout",
     "text": [
      "[[[5.80346530e-01 2.35816852e-01 8.25556032e-01 8.53668689e-01\n   1.95065324e-01]\n  [1.35793618e-01 7.07217099e-01 4.58387245e-05 7.72576217e-01\n   2.03180077e-01]\n  [8.51483540e-01 8.11012462e-01 7.00730562e-01 5.29948269e-01\n   4.81081850e-01]]\n\n [[4.46634130e-01 4.43028190e-01 7.38739293e-01 7.87373434e-01\n   8.95130801e-01]\n  [2.07499495e-01 2.64440302e-02 5.08116205e-01 5.73966832e-02\n   1.92307216e-01]\n  [6.04806774e-01 2.50811809e-01 8.47200163e-01 6.66174605e-01\n   7.88525950e-01]]]\n"
     ]
    }
   ],
   "source": [
    "# your code here\n",
    "\n",
    "print(a)"
   ]
  },
  {
   "cell_type": "markdown",
   "metadata": {},
   "source": [
    "#### 5. Create a 5x2x3 3-dimensional array with all values equaling 1. Assign the array to variable *b*."
   ]
  },
  {
   "cell_type": "code",
   "execution_count": 7,
   "metadata": {
    "collapsed": true
   },
   "outputs": [],
   "source": [
    "# your code here\n",
    "\n",
    "b = np.ones((5,2,3))"
   ]
  },
  {
   "cell_type": "markdown",
   "metadata": {},
   "source": [
    "#### 6. Print *b*.\n"
   ]
  },
  {
   "cell_type": "code",
   "execution_count": 8,
   "metadata": {
    "collapsed": true
   },
   "outputs": [
    {
     "output_type": "stream",
     "name": "stdout",
     "text": [
      "[[[1. 1. 1.]\n  [1. 1. 1.]]\n\n [[1. 1. 1.]\n  [1. 1. 1.]]\n\n [[1. 1. 1.]\n  [1. 1. 1.]]\n\n [[1. 1. 1.]\n  [1. 1. 1.]]\n\n [[1. 1. 1.]\n  [1. 1. 1.]]]\n"
     ]
    }
   ],
   "source": [
    "# your code here\n",
    "\n",
    "print(b)"
   ]
  },
  {
   "cell_type": "markdown",
   "metadata": {},
   "source": [
    "#### 7. Do *a* and *b* have the same size? How do you prove that in Python code?"
   ]
  },
  {
   "cell_type": "code",
   "execution_count": 9,
   "metadata": {
    "collapsed": true
   },
   "outputs": [
    {
     "output_type": "stream",
     "name": "stdout",
     "text": [
      "No, a and b do not have the same size.\n"
     ]
    }
   ],
   "source": [
    "# your code here\n",
    "\n",
    "if a.shape == b.shape:\n",
    "    print('Yes, a and b do have the same size.')\n",
    "else:\n",
    "    print('No, a and b do not have the same size.')"
   ]
  },
  {
   "cell_type": "markdown",
   "metadata": {},
   "source": [
    "#### 8. Are you able to add *a* and *b*? Why or why not?\n"
   ]
  },
  {
   "cell_type": "code",
   "execution_count": 10,
   "metadata": {
    "collapsed": true
   },
   "outputs": [],
   "source": [
    "# your answer here\n",
    "\n",
    "# We can't add a and b because they have different sizes. To be able to do so, we must transpose one of them first."
   ]
  },
  {
   "cell_type": "markdown",
   "metadata": {},
   "source": [
    "#### 9. Transpose *b* so that it has the same structure of *a* (i.e. become a 2x3x5 array). Assign the transposed array to variable *c*."
   ]
  },
  {
   "cell_type": "code",
   "execution_count": 11,
   "metadata": {
    "collapsed": true
   },
   "outputs": [
    {
     "output_type": "stream",
     "name": "stdout",
     "text": [
      "[[[1. 1. 1. 1. 1.]\n  [1. 1. 1. 1. 1.]\n  [1. 1. 1. 1. 1.]]\n\n [[1. 1. 1. 1. 1.]\n  [1. 1. 1. 1. 1.]\n  [1. 1. 1. 1. 1.]]]\n"
     ]
    }
   ],
   "source": [
    "# your code here\n",
    "\n",
    "c = b.reshape(2,3,5)\n",
    "print(c)"
   ]
  },
  {
   "cell_type": "markdown",
   "metadata": {},
   "source": [
    "#### 10. Try to add *a* and *c*. Now it should work. Assign the sum to variable *d*. But why does it work now?"
   ]
  },
  {
   "cell_type": "code",
   "execution_count": 12,
   "metadata": {
    "collapsed": true
   },
   "outputs": [
    {
     "output_type": "stream",
     "name": "stdout",
     "text": [
      "[[[1.58034653 1.23581685 1.82555603 1.85366869 1.19506532]\n  [1.13579362 1.7072171  1.00004584 1.77257622 1.20318008]\n  [1.85148354 1.81101246 1.70073056 1.52994827 1.48108185]]\n\n [[1.44663413 1.44302819 1.73873929 1.78737343 1.8951308 ]\n  [1.20749949 1.02644403 1.5081162  1.05739668 1.19230722]\n  [1.60480677 1.25081181 1.84720016 1.6661746  1.78852595]]]\n"
     ]
    }
   ],
   "source": [
    "# your code/answer here\n",
    "\n",
    "d = a + c\n",
    "print(d)\n",
    "\n",
    "# It works now because a and c have the same size."
   ]
  },
  {
   "cell_type": "markdown",
   "metadata": {},
   "source": [
    "#### 11. Print *a* and *d*. Notice the difference and relation of the two array in terms of the values? Explain."
   ]
  },
  {
   "cell_type": "code",
   "execution_count": 13,
   "metadata": {
    "collapsed": true
   },
   "outputs": [
    {
     "output_type": "stream",
     "name": "stdout",
     "text": [
      "[[[5.80346530e-01 2.35816852e-01 8.25556032e-01 8.53668689e-01\n   1.95065324e-01]\n  [1.35793618e-01 7.07217099e-01 4.58387245e-05 7.72576217e-01\n   2.03180077e-01]\n  [8.51483540e-01 8.11012462e-01 7.00730562e-01 5.29948269e-01\n   4.81081850e-01]]\n\n [[4.46634130e-01 4.43028190e-01 7.38739293e-01 7.87373434e-01\n   8.95130801e-01]\n  [2.07499495e-01 2.64440302e-02 5.08116205e-01 5.73966832e-02\n   1.92307216e-01]\n  [6.04806774e-01 2.50811809e-01 8.47200163e-01 6.66174605e-01\n   7.88525950e-01]]] \n \n [[[1.58034653 1.23581685 1.82555603 1.85366869 1.19506532]\n  [1.13579362 1.7072171  1.00004584 1.77257622 1.20318008]\n  [1.85148354 1.81101246 1.70073056 1.52994827 1.48108185]]\n\n [[1.44663413 1.44302819 1.73873929 1.78737343 1.8951308 ]\n  [1.20749949 1.02644403 1.5081162  1.05739668 1.19230722]\n  [1.60480677 1.25081181 1.84720016 1.6661746  1.78852595]]]\n"
     ]
    }
   ],
   "source": [
    "# your code/answer here\n",
    "\n",
    "print(f'{a} \\n \\n {d}')\n",
    "\n",
    "# d array have the same values in a array + 1"
   ]
  },
  {
   "cell_type": "markdown",
   "metadata": {},
   "source": [
    "#### 12. Multiply *a* and *c*. Assign the result to *e*."
   ]
  },
  {
   "cell_type": "code",
   "execution_count": 14,
   "metadata": {
    "collapsed": true
   },
   "outputs": [
    {
     "output_type": "stream",
     "name": "stdout",
     "text": [
      "[[[5.80346530e-01 2.35816852e-01 8.25556032e-01 8.53668689e-01\n   1.95065324e-01]\n  [1.35793618e-01 7.07217099e-01 4.58387245e-05 7.72576217e-01\n   2.03180077e-01]\n  [8.51483540e-01 8.11012462e-01 7.00730562e-01 5.29948269e-01\n   4.81081850e-01]]\n\n [[4.46634130e-01 4.43028190e-01 7.38739293e-01 7.87373434e-01\n   8.95130801e-01]\n  [2.07499495e-01 2.64440302e-02 5.08116205e-01 5.73966832e-02\n   1.92307216e-01]\n  [6.04806774e-01 2.50811809e-01 8.47200163e-01 6.66174605e-01\n   7.88525950e-01]]]\n"
     ]
    }
   ],
   "source": [
    "# your code here\n",
    "\n",
    "e = a * c\n",
    "print(e)"
   ]
  },
  {
   "cell_type": "markdown",
   "metadata": {},
   "source": [
    "#### 13. Does *e* equal to *a*? Why or why not?\n"
   ]
  },
  {
   "cell_type": "code",
   "execution_count": 15,
   "metadata": {
    "collapsed": true
   },
   "outputs": [
    {
     "output_type": "execute_result",
     "data": {
      "text/plain": [
       "array([[[ True,  True,  True,  True,  True],\n",
       "        [ True,  True,  True,  True,  True],\n",
       "        [ True,  True,  True,  True,  True]],\n",
       "\n",
       "       [[ True,  True,  True,  True,  True],\n",
       "        [ True,  True,  True,  True,  True],\n",
       "        [ True,  True,  True,  True,  True]]])"
      ]
     },
     "metadata": {},
     "execution_count": 15
    }
   ],
   "source": [
    "# your code/answer here\n",
    "\n",
    "a == e\n",
    "\n",
    "# They are equal because c is an array of ones."
   ]
  },
  {
   "cell_type": "markdown",
   "metadata": {},
   "source": [
    "#### 14. Identify the max, min, and mean values in *d*. Assign those values to variables *d_max*, *d_min* and *d_mean*."
   ]
  },
  {
   "cell_type": "code",
   "execution_count": 16,
   "metadata": {
    "collapsed": true
   },
   "outputs": [],
   "source": [
    "# your code here\n",
    "\n",
    "d_max = np.max(d)\n",
    "d_min = np.min(d)\n",
    "d_mean = np.mean(d)"
   ]
  },
  {
   "cell_type": "markdown",
   "metadata": {},
   "source": [
    "#### 15. Now we want to label the values in *d*. First create an empty array *f* with the same shape (i.e. 2x3x5) as *d* using `np.empty`.\n"
   ]
  },
  {
   "cell_type": "code",
   "execution_count": 17,
   "metadata": {
    "collapsed": true
   },
   "outputs": [],
   "source": [
    "# your code here\n",
    "\n",
    "f = np.empty(d.shape)"
   ]
  },
  {
   "cell_type": "markdown",
   "metadata": {},
   "source": [
    "#### 16. Populate the values in *f*. \n",
    "\n",
    "For each value in *d*, if it's larger than *d_min* but smaller than *d_mean*, assign 25 to the corresponding value in *f*. If a value in *d* is larger than *d_mean* but smaller than *d_max*, assign 75 to the corresponding value in *f*. If a value equals to *d_mean*, assign 50 to the corresponding value in *f*. Assign 0 to the corresponding value(s) in *f* for *d_min* in *d*. Assign 100 to the corresponding value(s) in *f* for *d_max* in *d*. In the end, f should have only the following values: 0, 25, 50, 75, and 100.\n",
    "\n",
    "**Note**: you don't have to use Numpy in this question."
   ]
  },
  {
   "cell_type": "code",
   "execution_count": 18,
   "metadata": {
    "collapsed": true
   },
   "outputs": [],
   "source": [
    "# your code here\n",
    "\n",
    "for value in range(len(d)):\n",
    "    for value2 in range(len(d[value])):\n",
    "        for value3 in range(len(d[value][value2])):\n",
    "            if d[value][value2][value3] > d_min and d[value][value2][value3] < d_mean:\n",
    "                f[value][value2][value3] = 25\n",
    "            elif d[value][value2][value3] > d_mean and d[value][value2][value3] < d_max:\n",
    "                f[value][value2][value3] = 75\n",
    "            elif d[value][value2][value3] == d_mean:\n",
    "                f[value][value2][value3] = 50\n",
    "            elif d[value][value2][value3] == d_min:\n",
    "                f[value][value2][value3] = 0\n",
    "            elif d[value][value2][value3] == d_max:\n",
    "                f[value][value2][value3] = 100"
   ]
  },
  {
   "cell_type": "markdown",
   "metadata": {},
   "source": [
    "#### 17. Print *d* and *f*. Do you have your expected *f*?\n",
    "For instance, if your *d* is:\n",
    "```python\n",
    "[[[1.85836099, 1.67064465, 1.62576044, 1.40243961, 1.88454931],\n",
    "[1.75354326, 1.69403643, 1.36729252, 1.61415071, 1.12104981],\n",
    "[1.72201435, 1.1862918 , 1.87078449, 1.7726778 , 1.88180042]],\n",
    "[[1.44747908, 1.31673383, 1.02000951, 1.52218947, 1.97066381],\n",
    "[1.79129243, 1.74983003, 1.96028037, 1.85166831, 1.65450881],\n",
    "[1.18068344, 1.9587381 , 1.00656599, 1.93402165, 1.73514584]]]\n",
    "```\n",
    "Your *f* should be:\n",
    "```python\n",
    "[[[ 75.,  75.,  75.,  25.,  75.],\n",
    "[ 75.,  75.,  25.,  25.,  25.],\n",
    "[ 75.,  25.,  75.,  75.,  75.]],\n",
    "[[ 25.,  25.,  25.,  25., 100.],\n",
    "[ 75.,  75.,  75.,  75.,  75.],\n",
    "[ 25.,  75.,   0.,  75.,  75.]]]\n",
    "```"
   ]
  },
  {
   "cell_type": "code",
   "execution_count": 19,
   "metadata": {
    "collapsed": true
   },
   "outputs": [
    {
     "output_type": "stream",
     "name": "stdout",
     "text": [
      "d is \n [[[1.58034653 1.23581685 1.82555603 1.85366869 1.19506532]\n  [1.13579362 1.7072171  1.00004584 1.77257622 1.20318008]\n  [1.85148354 1.81101246 1.70073056 1.52994827 1.48108185]]\n\n [[1.44663413 1.44302819 1.73873929 1.78737343 1.8951308 ]\n  [1.20749949 1.02644403 1.5081162  1.05739668 1.19230722]\n  [1.60480677 1.25081181 1.84720016 1.6661746  1.78852595]]] \n \n and f is \n [[[ 75.  25.  75.  75.  25.]\n  [ 25.  75.   0.  75.  25.]\n  [ 75.  75.  75.  75.  25.]]\n\n [[ 25.  25.  75.  75. 100.]\n  [ 25.  25.  25.  25.  25.]\n  [ 75.  25.  75.  75.  75.]]]\n"
     ]
    }
   ],
   "source": [
    "# your code here\n",
    "print(f'd is \\n {d} \\n \\n and f is \\n {f}')"
   ]
  },
  {
   "cell_type": "markdown",
   "metadata": {},
   "source": [
    "#### 18. Bonus question: instead of using numbers (i.e. 0, 25, 50, 75, and 100), use string values  (\"A\", \"B\", \"C\", \"D\", and \"E\") to label the array elements. For the example above, the expected result is:\n",
    "\n",
    "```python\n",
    "[[[ 'D',  'D',  'D',  'B',  'D'],\n",
    "[ 'D',  'D',  'B',  'B',  'B'],\n",
    "[ 'D',  'B',  'D',  'D',  'D']],\n",
    "[[ 'B',  'B',  'B',  'B',  'E'],\n",
    "[ 'D',  'D',  'D',  'D',  'D'],\n",
    "[ 'B',  'D',   'A',  'D', 'D']]]\n",
    "```\n",
    "**Note**: you don't have to use Numpy in this question."
   ]
  },
  {
   "cell_type": "code",
   "execution_count": 20,
   "metadata": {
    "collapsed": true
   },
   "outputs": [
    {
     "output_type": "stream",
     "name": "stdout",
     "text": [
      "[[['D' 'B' 'D' 'D' 'B']\n  ['B' 'D' 'A' 'D' 'B']\n  ['D' 'D' 'D' 'D' 'B']]\n\n [['B' 'B' 'D' 'D' 'E']\n  ['B' 'B' 'B' 'B' 'B']\n  ['D' 'B' 'D' 'D' 'D']]]\n"
     ]
    }
   ],
   "source": [
    "# your code here\n",
    "\n",
    "g = f.astype(str)\n",
    "\n",
    "for value in range(len(d)):\n",
    "    for value2 in range(len(d[value])):\n",
    "        for value3 in range(len(d[value][value2])):\n",
    "            if d[value][value2][value3] > d_min and d[value][value2][value3] < d_mean:\n",
    "                g[value][value2][value3] = 'B'\n",
    "            elif d[value][value2][value3] > d_mean and d[value][value2][value3] < d_max:\n",
    "                g[value][value2][value3] = 'D'\n",
    "            elif d[value][value2][value3] == d_mean:\n",
    "                g[value][value2][value3] = 'C'\n",
    "            elif d[value][value2][value3] == d_min:\n",
    "                g[value][value2][value3] = 'A'\n",
    "            elif d[value][value2][value3] == d_max:\n",
    "                g[value][value2][value3] = 'E'\n",
    "\n",
    "print(g)"
   ]
  }
 ],
 "metadata": {
  "kernelspec": {
   "display_name": "Python 3",
   "language": "python",
   "name": "python3"
  },
  "language_info": {
   "codemirror_mode": {
    "name": "ipython",
    "version": 3
   },
   "file_extension": ".py",
   "mimetype": "text/x-python",
   "name": "python",
   "nbconvert_exporter": "python",
   "pygments_lexer": "ipython3",
   "version": "3.8.5-final"
  }
 },
 "nbformat": 4,
 "nbformat_minor": 2
}